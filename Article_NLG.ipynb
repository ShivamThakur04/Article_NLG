{
  "nbformat": 4,
  "nbformat_minor": 0,
  "metadata": {
    "colab": {
      "name": "Article_NLG.ipynb",
      "provenance": [],
      "collapsed_sections": []
    },
    "kernelspec": {
      "name": "python3",
      "display_name": "Python 3"
    },
    "language_info": {
      "name": "python"
    }
  },
  "cells": [
    {
      "cell_type": "code",
      "metadata": {
        "id": "bysoJUOvVtIW"
      },
      "source": [
        "from tensorflow.keras.preprocessing.sequence import pad_sequences\n",
        "from tensorflow.keras.layers import Embedding, LSTM, Dense, Dropout, Bidirectional\n",
        "from tensorflow.keras.preprocessing.text import Tokenizer\n",
        "from tensorflow.keras.models import Sequential\n",
        "from tensorflow.keras.optimizers import Adam\n",
        "from tensorflow.keras.regularizers import L1, L2\n",
        "import tensorflow.keras.utils as ku \n",
        "import numpy as np \n",
        "import pandas as pd\n",
        "import string\n",
        "import tensorflow as tf"
      ],
      "execution_count": null,
      "outputs": []
    },
    {
      "cell_type": "code",
      "metadata": {
        "id": "oP9BddUeVw7x"
      },
      "source": [
        "df = pd.read_csv('drive/MyDrive/datasets/documents.csv')"
      ],
      "execution_count": null,
      "outputs": []
    },
    {
      "cell_type": "code",
      "metadata": {
        "id": "yM0qG3ZuVzUy"
      },
      "source": [
        "def remove_punctuations(text):\n",
        "    for punctuation in string.punctuation:\n",
        "        text = text.replace(punctuation, '')\n",
        "    return text"
      ],
      "execution_count": null,
      "outputs": []
    },
    {
      "cell_type": "code",
      "metadata": {
        "id": "nLvG10N-V1Je"
      },
      "source": [
        "new = df[\"deep_learning\"][0:50].str.split(\"]\", n = 1, expand = True)\n",
        "deep_learning_text = new[0]\n",
        "deep_learning_text = deep_learning_text.dropna()\n",
        "deep_learning_text = deep_learning_text.apply(remove_punctuations)\n",
        "deep_learning_title = new[1]\n",
        "deep_learning_title = deep_learning_title.dropna()\n",
        "deep_learning_title = deep_learning_title.apply(remove_punctuations)\n",
        "\n",
        "new = df[\"covid_19\"][0:50].str.split(\"]\", n = 1, expand = True)\n",
        "covid_19_text = new[0]\n",
        "covid_19_text = covid_19_text.dropna()\n",
        "covid_19_text = covid_19_text.apply(remove_punctuations)\n",
        "covid_19_title = new[1]\n",
        "covid_19_title = covid_19_title.dropna()\n",
        "covid_19_title = covid_19_title.apply(remove_punctuations)\n",
        "\n",
        "new = df[\"human_connectome\"][0:50].str.split(\"]\", n = 1, expand = True)\n",
        "human_connectome_text = new[0]\n",
        "human_connectome_text = human_connectome_text.dropna()\n",
        "human_connectome_text = human_connectome_text.apply(remove_punctuations)\n",
        "human_connectome_title = new[1]\n",
        "human_connectome_title = human_connectome_title.dropna()\n",
        "human_connectome_title = human_connectome_title.apply(remove_punctuations)\n",
        "\n",
        "new = df[\"virtual_reality\"][0:50].str.split(\"]\", n = 1, expand = True)\n",
        "virtual_reality_text = new[0]\n",
        "virtual_reality_text = virtual_reality_text.dropna()\n",
        "virtual_reality_text = virtual_reality_text.apply(remove_punctuations)\n",
        "virtual_reality_title = new[1]\n",
        "virtual_reality_title = virtual_reality_title.dropna()\n",
        "virtual_reality_title = virtual_reality_title.apply(remove_punctuations)\n",
        "\n",
        "new = df[\"brain_machine_interfaces\"][0:100].str.split(\"]\", n = 1, expand = True)\n",
        "brain_machine_interfaces_text = new[0]\n",
        "brain_machine_interfaces_text = brain_machine_interfaces_text.dropna()\n",
        "brain_machine_interfaces_text = brain_machine_interfaces_text.apply(remove_punctuations)\n",
        "brain_machine_interfaces_title = new[1]\n",
        "brain_machine_interfaces_title = brain_machine_interfaces_title.dropna()\n",
        "brain_machine_interfaces_title = brain_machine_interfaces_title.apply(remove_punctuations)\n",
        "\n",
        "new = df[\"electroactive_polymers\"][0:100].str.split(\"]\", n = 1, expand = True)\n",
        "electroactive_polymers_text = new[0]\n",
        "electroactive_polymers_text = electroactive_polymers_text.dropna()\n",
        "electroactive_polymers_text = electroactive_polymers_text.apply(remove_punctuations)\n",
        "electroactive_polymers_title = new[1]\n",
        "electroactive_polymers_title = electroactive_polymers_title.dropna()\n",
        "electroactive_polymers_title = electroactive_polymers_title.apply(remove_punctuations)\n",
        "\n",
        "new = df[\"pedot_electrodes\"][0:50].str.split(\"]\", n = 1, expand = True)\n",
        "pedot_electrodes_text = new[0]\n",
        "pedot_electrodes_text = pedot_electrodes_text.dropna()\n",
        "pedot_electrodes_text = pedot_electrodes_text.apply(remove_punctuations)\n",
        "pedot_electrodes_title = new[1]\n",
        "pedot_electrodes_title = pedot_electrodes_title.dropna()\n",
        "pedot_electrodes_title = pedot_electrodes_title.apply(remove_punctuations)\n",
        "new = df[\"neuroprosthetics\"][0:50].str.split(\"]\", n = 1, expand = True)\n",
        "neuroprosthetics_text = new[0]\n",
        "neuroprosthetics_text = neuroprosthetics_text.dropna()\n",
        "neuroprosthetics_text = neuroprosthetics_text.apply(remove_punctuations)\n",
        "neuroprosthetics_title = new[1]\n",
        "neuroprosthetics_title = neuroprosthetics_title.dropna()\n",
        "neuroprosthetics_title = neuroprosthetics_title.apply(remove_punctuations)"
      ],
      "execution_count": null,
      "outputs": []
    },
    {
      "cell_type": "code",
      "metadata": {
        "id": "eC1FjSbkWDaA"
      },
      "source": [
        "text = pd.concat([deep_learning_text, \n",
        "                  covid_19_text, \n",
        "                  human_connectome_text, \n",
        "                  virtual_reality_text, \n",
        "                  brain_machine_interfaces_text, \n",
        "                  electroactive_polymers_text, \n",
        "                  pedot_electrodes_text, \n",
        "                  neuroprosthetics_text], axis = 0)\n",
        "title = pd.concat([deep_learning_title, \n",
        "                  covid_19_title, \n",
        "                  human_connectome_title, \n",
        "                  virtual_reality_title, \n",
        "                  brain_machine_interfaces_title, \n",
        "                  electroactive_polymers_title, \n",
        "                  pedot_electrodes_title, \n",
        "                  neuroprosthetics_title], axis = 0)\n",
        "combined = pd.concat([text, title], axis = 0)"
      ],
      "execution_count": null,
      "outputs": []
    },
    {
      "cell_type": "code",
      "metadata": {
        "id": "23VSPGdiWD6J"
      },
      "source": [
        "text = np.array(text).astype(str)\n",
        "title = np.array(title).astype(str)\n",
        "combined = np.array(combined).astype(str)"
      ],
      "execution_count": null,
      "outputs": []
    },
    {
      "cell_type": "code",
      "metadata": {
        "id": "lJFvIrLh9-AS"
      },
      "source": [
        "np.random.shuffle(text)\n",
        "np.random.shuffle(title)\n",
        "np.random.shuffle(combined)"
      ],
      "execution_count": null,
      "outputs": []
    },
    {
      "cell_type": "code",
      "metadata": {
        "id": "1m_DtO5NWGTo"
      },
      "source": [
        "tokenizer = Tokenizer()\n",
        "tokenizer.fit_on_texts(combined)\n",
        "total_words = len(tokenizer.word_index) + 1"
      ],
      "execution_count": null,
      "outputs": []
    },
    {
      "cell_type": "code",
      "metadata": {
        "id": "BGSF-VGSWKIC"
      },
      "source": [
        "input_text_sequences = []\n",
        "for line in text:\n",
        "    token_list = tokenizer.texts_to_sequences([line])[0]\n",
        "    for i in range(1, len(token_list)):\n",
        "        n_gram_sequence = token_list[:i+1]\n",
        "        input_text_sequences.append(n_gram_sequence)\n",
        "max_sequence_len = max([len(x) for x in input_text_sequences])\n",
        "input_text_sequences = np.array(pad_sequences(input_text_sequences, maxlen=max_sequence_len, padding='pre'))\n",
        "predictors, label = input_text_sequences[:,:-1],input_text_sequences[:,-1]\n",
        "label = ku.to_categorical(label, num_classes=total_words)"
      ],
      "execution_count": null,
      "outputs": []
    },
    {
      "cell_type": "code",
      "metadata": {
        "id": "zhnbPaCYWL5b",
        "colab": {
          "base_uri": "https://localhost:8080/"
        },
        "outputId": "9e7dc3ce-4059-4423-cbb3-98fff5d1f4cd"
      },
      "source": [
        "model = Sequential()\n",
        "model.add(Embedding(total_words, 50, input_length=max_sequence_len-1))\n",
        "model.add(Bidirectional(LSTM(50, return_sequences=True)))\n",
        "model.add(Dropout(0.2))\n",
        "model.add(Bidirectional(LSTM(50)))\n",
        "model.add(Dense(512, activation='relu'))\n",
        "model.add(Dense(total_words, activation='softmax'))\n",
        "\n",
        "model.compile(loss='categorical_crossentropy', optimizer='adam', metrics=['accuracy'])\n",
        "print(model.summary())"
      ],
      "execution_count": null,
      "outputs": [
        {
          "output_type": "stream",
          "text": [
            "Model: \"sequential\"\n",
            "_________________________________________________________________\n",
            "Layer (type)                 Output Shape              Param #   \n",
            "=================================================================\n",
            "embedding (Embedding)        (None, 455, 50)           518500    \n",
            "_________________________________________________________________\n",
            "bidirectional (Bidirectional (None, 455, 100)          40400     \n",
            "_________________________________________________________________\n",
            "dropout (Dropout)            (None, 455, 100)          0         \n",
            "_________________________________________________________________\n",
            "bidirectional_1 (Bidirection (None, 100)               60400     \n",
            "_________________________________________________________________\n",
            "dense (Dense)                (None, 512)               51712     \n",
            "_________________________________________________________________\n",
            "dense_1 (Dense)              (None, 10370)             5319810   \n",
            "=================================================================\n",
            "Total params: 5,990,822\n",
            "Trainable params: 5,990,822\n",
            "Non-trainable params: 0\n",
            "_________________________________________________________________\n",
            "None\n"
          ],
          "name": "stdout"
        }
      ]
    },
    {
      "cell_type": "code",
      "metadata": {
        "id": "5ZVeGd-eujVb"
      },
      "source": [
        "callback = tf.keras.callbacks.EarlyStopping(monitor='loss', patience=5)\n",
        "checkpoint = tf.keras.callbacks.ModelCheckpoint(monitor = 'loss', save_best_only = True, filepath = 'Text_Prediction.hdf5')"
      ],
      "execution_count": null,
      "outputs": []
    },
    {
      "cell_type": "code",
      "metadata": {
        "id": "7fdjYh5AWVRj",
        "colab": {
          "base_uri": "https://localhost:8080/"
        },
        "outputId": "f887906f-fa7e-435e-8831-8ace9ceb9381"
      },
      "source": [
        "history = model.fit(predictors, label, epochs=100, verbose=1, callbacks=[callback, checkpoint])"
      ],
      "execution_count": null,
      "outputs": [
        {
          "output_type": "stream",
          "text": [
            "Epoch 1/100\n",
            "2359/2359 [==============================] - 175s 70ms/step - loss: 7.2402 - accuracy: 0.0726\n",
            "Epoch 2/100\n",
            "2359/2359 [==============================] - 162s 69ms/step - loss: 6.7162 - accuracy: 0.1034\n",
            "Epoch 3/100\n",
            "2359/2359 [==============================] - 162s 69ms/step - loss: 6.2857 - accuracy: 0.1255\n",
            "Epoch 4/100\n",
            "2359/2359 [==============================] - 162s 69ms/step - loss: 5.9200 - accuracy: 0.1408\n",
            "Epoch 5/100\n",
            "2359/2359 [==============================] - 162s 69ms/step - loss: 5.6068 - accuracy: 0.1526\n",
            "Epoch 6/100\n",
            "2359/2359 [==============================] - 162s 69ms/step - loss: 5.3280 - accuracy: 0.1647\n",
            "Epoch 7/100\n",
            "2359/2359 [==============================] - 165s 70ms/step - loss: 5.0583 - accuracy: 0.1736\n",
            "Epoch 8/100\n",
            "2359/2359 [==============================] - 164s 69ms/step - loss: 4.8054 - accuracy: 0.1845\n",
            "Epoch 9/100\n",
            "2359/2359 [==============================] - 166s 70ms/step - loss: 4.5611 - accuracy: 0.1966\n",
            "Epoch 10/100\n",
            "2359/2359 [==============================] - 165s 70ms/step - loss: 4.3220 - accuracy: 0.2108\n",
            "Epoch 11/100\n",
            "2359/2359 [==============================] - 162s 69ms/step - loss: 4.0798 - accuracy: 0.2258\n",
            "Epoch 12/100\n",
            "2359/2359 [==============================] - 162s 69ms/step - loss: 3.8439 - accuracy: 0.2456\n",
            "Epoch 13/100\n",
            "2359/2359 [==============================] - 162s 69ms/step - loss: 3.6089 - accuracy: 0.2730\n",
            "Epoch 14/100\n",
            "2359/2359 [==============================] - 162s 69ms/step - loss: 3.3788 - accuracy: 0.3002\n",
            "Epoch 15/100\n",
            "2359/2359 [==============================] - 162s 69ms/step - loss: 3.1656 - accuracy: 0.3303\n",
            "Epoch 16/100\n",
            "2359/2359 [==============================] - 162s 69ms/step - loss: 2.9780 - accuracy: 0.3598\n",
            "Epoch 17/100\n",
            "2359/2359 [==============================] - 162s 69ms/step - loss: 2.7933 - accuracy: 0.3859\n",
            "Epoch 18/100\n",
            "2359/2359 [==============================] - 162s 69ms/step - loss: 2.6299 - accuracy: 0.4130\n",
            "Epoch 19/100\n",
            "2359/2359 [==============================] - 162s 69ms/step - loss: 2.4788 - accuracy: 0.4376\n",
            "Epoch 20/100\n",
            "2359/2359 [==============================] - 161s 68ms/step - loss: 2.3345 - accuracy: 0.4634\n",
            "Epoch 21/100\n",
            "2359/2359 [==============================] - 161s 68ms/step - loss: 2.2075 - accuracy: 0.4836\n",
            "Epoch 22/100\n",
            "2359/2359 [==============================] - 161s 68ms/step - loss: 2.0826 - accuracy: 0.5066\n",
            "Epoch 23/100\n",
            "2359/2359 [==============================] - 161s 68ms/step - loss: 1.9705 - accuracy: 0.5260\n",
            "Epoch 24/100\n",
            "2359/2359 [==============================] - 162s 69ms/step - loss: 1.8636 - accuracy: 0.5490\n",
            "Epoch 25/100\n",
            "2359/2359 [==============================] - 161s 68ms/step - loss: 1.7668 - accuracy: 0.5668\n",
            "Epoch 26/100\n",
            "2359/2359 [==============================] - 162s 69ms/step - loss: 1.6741 - accuracy: 0.5852\n",
            "Epoch 27/100\n",
            "2359/2359 [==============================] - 162s 69ms/step - loss: 1.5833 - accuracy: 0.6005\n",
            "Epoch 28/100\n",
            "2359/2359 [==============================] - 163s 69ms/step - loss: 1.5069 - accuracy: 0.6178\n",
            "Epoch 29/100\n",
            "2359/2359 [==============================] - 164s 70ms/step - loss: 1.4273 - accuracy: 0.6329\n",
            "Epoch 30/100\n",
            "2359/2359 [==============================] - 165s 70ms/step - loss: 1.3562 - accuracy: 0.6483\n",
            "Epoch 31/100\n",
            "2359/2359 [==============================] - 163s 69ms/step - loss: 1.2924 - accuracy: 0.6637\n",
            "Epoch 32/100\n",
            "2359/2359 [==============================] - 162s 69ms/step - loss: 1.2255 - accuracy: 0.6769\n",
            "Epoch 33/100\n",
            "2359/2359 [==============================] - 162s 68ms/step - loss: 1.1769 - accuracy: 0.6866\n",
            "Epoch 34/100\n",
            "2359/2359 [==============================] - 162s 68ms/step - loss: 1.1192 - accuracy: 0.7007\n",
            "Epoch 35/100\n",
            "2359/2359 [==============================] - 163s 69ms/step - loss: 1.0635 - accuracy: 0.7134\n",
            "Epoch 36/100\n",
            "2359/2359 [==============================] - 163s 69ms/step - loss: 1.0135 - accuracy: 0.7243\n",
            "Epoch 37/100\n",
            "2359/2359 [==============================] - 162s 69ms/step - loss: 0.9731 - accuracy: 0.7335\n",
            "Epoch 38/100\n",
            "2359/2359 [==============================] - 162s 69ms/step - loss: 0.9289 - accuracy: 0.7434\n",
            "Epoch 39/100\n",
            "2359/2359 [==============================] - 162s 69ms/step - loss: 0.8934 - accuracy: 0.7526\n",
            "Epoch 40/100\n",
            "2359/2359 [==============================] - 162s 69ms/step - loss: 0.8486 - accuracy: 0.7651\n",
            "Epoch 41/100\n",
            "2359/2359 [==============================] - 165s 70ms/step - loss: 0.8200 - accuracy: 0.7703\n",
            "Epoch 42/100\n",
            "2359/2359 [==============================] - 166s 70ms/step - loss: 0.7882 - accuracy: 0.7781\n",
            "Epoch 43/100\n",
            "2359/2359 [==============================] - 165s 70ms/step - loss: 0.7563 - accuracy: 0.7866\n",
            "Epoch 44/100\n",
            "2359/2359 [==============================] - 164s 70ms/step - loss: 0.7250 - accuracy: 0.7930\n",
            "Epoch 45/100\n",
            "2359/2359 [==============================] - 165s 70ms/step - loss: 0.6989 - accuracy: 0.8022\n",
            "Epoch 46/100\n",
            "2359/2359 [==============================] - 164s 70ms/step - loss: 0.6701 - accuracy: 0.8079\n",
            "Epoch 47/100\n",
            "2359/2359 [==============================] - 165s 70ms/step - loss: 0.6446 - accuracy: 0.8146\n",
            "Epoch 48/100\n",
            "2359/2359 [==============================] - 164s 70ms/step - loss: 0.6221 - accuracy: 0.8210\n",
            "Epoch 49/100\n",
            "2359/2359 [==============================] - 165s 70ms/step - loss: 0.5987 - accuracy: 0.8266\n",
            "Epoch 50/100\n",
            "2359/2359 [==============================] - 165s 70ms/step - loss: 0.5832 - accuracy: 0.8304\n",
            "Epoch 51/100\n",
            "2359/2359 [==============================] - 165s 70ms/step - loss: 0.5680 - accuracy: 0.8337\n",
            "Epoch 52/100\n",
            "2359/2359 [==============================] - 164s 70ms/step - loss: 0.5483 - accuracy: 0.8403\n",
            "Epoch 53/100\n",
            "2359/2359 [==============================] - 165s 70ms/step - loss: 0.5320 - accuracy: 0.8436\n",
            "Epoch 54/100\n",
            "2359/2359 [==============================] - 166s 70ms/step - loss: 0.5098 - accuracy: 0.8507\n",
            "Epoch 55/100\n",
            "2359/2359 [==============================] - 165s 70ms/step - loss: 0.5019 - accuracy: 0.8517\n",
            "Epoch 56/100\n",
            "2359/2359 [==============================] - 165s 70ms/step - loss: 0.4849 - accuracy: 0.8568\n",
            "Epoch 57/100\n",
            "2359/2359 [==============================] - 166s 70ms/step - loss: 0.4729 - accuracy: 0.8581\n",
            "Epoch 58/100\n",
            "2359/2359 [==============================] - 166s 70ms/step - loss: 0.4545 - accuracy: 0.8644\n",
            "Epoch 59/100\n",
            "2359/2359 [==============================] - 167s 71ms/step - loss: 0.4428 - accuracy: 0.8680\n",
            "Epoch 60/100\n",
            "2359/2359 [==============================] - 166s 70ms/step - loss: 0.4373 - accuracy: 0.8685\n",
            "Epoch 61/100\n",
            "2359/2359 [==============================] - 165s 70ms/step - loss: 0.4196 - accuracy: 0.8745\n",
            "Epoch 62/100\n",
            "2359/2359 [==============================] - 165s 70ms/step - loss: 0.4148 - accuracy: 0.8762\n",
            "Epoch 63/100\n",
            "2359/2359 [==============================] - 164s 70ms/step - loss: 0.4039 - accuracy: 0.8781\n",
            "Epoch 64/100\n",
            "2359/2359 [==============================] - 165s 70ms/step - loss: 0.3901 - accuracy: 0.8815\n",
            "Epoch 65/100\n",
            "2359/2359 [==============================] - 165s 70ms/step - loss: 0.3805 - accuracy: 0.8854\n",
            "Epoch 66/100\n",
            "2359/2359 [==============================] - 165s 70ms/step - loss: 0.3719 - accuracy: 0.8882\n",
            "Epoch 67/100\n",
            "2359/2359 [==============================] - 165s 70ms/step - loss: 0.3697 - accuracy: 0.8892\n",
            "Epoch 68/100\n",
            "2359/2359 [==============================] - 164s 70ms/step - loss: 0.3562 - accuracy: 0.8933\n",
            "Epoch 69/100\n",
            "2359/2359 [==============================] - 165s 70ms/step - loss: 0.3481 - accuracy: 0.8938\n",
            "Epoch 70/100\n",
            "2359/2359 [==============================] - 165s 70ms/step - loss: 0.3464 - accuracy: 0.8960\n",
            "Epoch 71/100\n",
            "2359/2359 [==============================] - 166s 70ms/step - loss: 0.3377 - accuracy: 0.8979\n",
            "Epoch 72/100\n",
            "2359/2359 [==============================] - 163s 69ms/step - loss: 0.3308 - accuracy: 0.8998\n",
            "Epoch 73/100\n",
            "2359/2359 [==============================] - 165s 70ms/step - loss: 0.3233 - accuracy: 0.9020\n",
            "Epoch 74/100\n",
            "2359/2359 [==============================] - 165s 70ms/step - loss: 0.3208 - accuracy: 0.9040\n",
            "Epoch 75/100\n",
            "2359/2359 [==============================] - 165s 70ms/step - loss: 0.3135 - accuracy: 0.9054\n",
            "Epoch 76/100\n",
            "2359/2359 [==============================] - 166s 70ms/step - loss: 0.3071 - accuracy: 0.9066\n",
            "Epoch 77/100\n",
            "2359/2359 [==============================] - 165s 70ms/step - loss: 0.3052 - accuracy: 0.9083\n",
            "Epoch 78/100\n",
            "2359/2359 [==============================] - 164s 70ms/step - loss: 0.2980 - accuracy: 0.9093\n",
            "Epoch 79/100\n",
            "2359/2359 [==============================] - 164s 70ms/step - loss: 0.2983 - accuracy: 0.9099\n",
            "Epoch 80/100\n",
            "2359/2359 [==============================] - 163s 69ms/step - loss: 0.2861 - accuracy: 0.9120\n",
            "Epoch 81/100\n",
            "2359/2359 [==============================] - 164s 69ms/step - loss: 0.2799 - accuracy: 0.9142\n",
            "Epoch 82/100\n",
            "2359/2359 [==============================] - 163s 69ms/step - loss: 0.2759 - accuracy: 0.9162\n",
            "Epoch 83/100\n",
            "2359/2359 [==============================] - 163s 69ms/step - loss: 0.2724 - accuracy: 0.9168\n",
            "Epoch 84/100\n",
            "2359/2359 [==============================] - 163s 69ms/step - loss: 0.2721 - accuracy: 0.9173\n",
            "Epoch 85/100\n",
            "2359/2359 [==============================] - 163s 69ms/step - loss: 0.2634 - accuracy: 0.9203\n",
            "Epoch 86/100\n",
            "2359/2359 [==============================] - 163s 69ms/step - loss: 0.2686 - accuracy: 0.9184\n",
            "Epoch 87/100\n",
            "2359/2359 [==============================] - 163s 69ms/step - loss: 0.2641 - accuracy: 0.9199\n",
            "Epoch 88/100\n",
            "2359/2359 [==============================] - 162s 69ms/step - loss: 0.2514 - accuracy: 0.9230\n",
            "Epoch 89/100\n",
            "2359/2359 [==============================] - 163s 69ms/step - loss: 0.2537 - accuracy: 0.9225\n",
            "Epoch 90/100\n",
            "2359/2359 [==============================] - 163s 69ms/step - loss: 0.2478 - accuracy: 0.9242\n",
            "Epoch 91/100\n",
            "2359/2359 [==============================] - 163s 69ms/step - loss: 0.2488 - accuracy: 0.9239\n",
            "Epoch 92/100\n",
            "2359/2359 [==============================] - 163s 69ms/step - loss: 0.2412 - accuracy: 0.9266\n",
            "Epoch 93/100\n",
            "2359/2359 [==============================] - 164s 69ms/step - loss: 0.2410 - accuracy: 0.9264\n",
            "Epoch 94/100\n",
            "1422/2359 [=================>............] - ETA: 1:04 - loss: 0.2186 - accuracy: 0.9325"
          ],
          "name": "stdout"
        }
      ]
    },
    {
      "cell_type": "code",
      "metadata": {
        "id": "trnvHjepWpBm",
        "colab": {
          "base_uri": "https://localhost:8080/",
          "height": 545
        },
        "outputId": "7dfe50d0-96df-4b0e-bf4f-73048178932e"
      },
      "source": [
        "import matplotlib.pyplot as plt\n",
        "acc = history.history['accuracy']\n",
        "loss = history.history['loss']\n",
        "\n",
        "epochs = range(len(acc))\n",
        "\n",
        "plt.plot(epochs, acc, 'b', label='Training accuracy')\n",
        "plt.title('Training accuracy')\n",
        "\n",
        "plt.figure()\n",
        "\n",
        "plt.plot(epochs, loss, 'b', label='Training Loss')\n",
        "plt.title('Training loss')\n",
        "plt.legend()\n",
        "\n",
        "plt.show()"
      ],
      "execution_count": null,
      "outputs": [
        {
          "output_type": "display_data",
          "data": {
            "image/png": "[encoded data removed]",
            "text/plain": [
              "<Figure size 432x288 with 1 Axes>"
            ]
          },
          "metadata": {
            "tags": [],
            "needs_background": "light"
          }
        },
        {
          "output_type": "display_data",
          "data": {
            "image/png": "[encoded data removed]",
            "text/plain": [
              "<Figure size 432x288 with 1 Axes>"
            ]
          },
          "metadata": {
            "tags": [],
            "needs_background": "light"
          }
        }
      ]
    },
    {
      "cell_type": "code",
      "metadata": {
        "id": "hsHz77TQ6YYk"
      },
      "source": [
        "model.save('model50.hd5')"
      ],
      "execution_count": null,
      "outputs": []
    },
    {
      "cell_type": "code",
      "metadata": {
        "id": "wGMdSN6sAc_3"
      },
      "source": [
        "seed_text = \"The severe acute respiratory syndrome-coronavirus-2 outbreak has rapidly reached pandemic proportions and has become a major threat to global health\"\n",
        "next_words = 100\n",
        "  \n",
        "for _ in range(next_words):\n",
        "\ttoken_list = tokenizer.texts_to_sequences([seed_text])[0]\n",
        "\ttoken_list = pad_sequences([token_list], maxlen=max_sequence_len-1, padding='pre')\n",
        "\tpredicted = model.predict_classes(token_list, verbose=0)\n",
        "\toutput_word = \"\"\n",
        "\tfor word, index in tokenizer.word_index.items():\n",
        "\t\tif index == predicted:\n",
        "\t\t\toutput_word = word\n",
        "\t\t\tbreak\n",
        "\tseed_text += \" \" + output_word\n",
        "print(seed_text)"
      ],
      "execution_count": null,
      "outputs": []
    },
    {
      "cell_type": "code",
      "metadata": {
        "id": "xPCsAfFJ6cXT"
      },
      "source": [
        "!cp -r model50.hd5 /content/drive/MyDrive/models"
      ],
      "execution_count": null,
      "outputs": []
    }
  ]
}